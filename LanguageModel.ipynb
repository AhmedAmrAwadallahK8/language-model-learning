{
 "cells": [
  {
   "cell_type": "code",
   "execution_count": 37,
   "id": "334536d0",
   "metadata": {},
   "outputs": [],
   "source": [
    "import torch\n",
    "import torch.nn as nn\n",
    "import torchvision\n",
    "import numpy as np\n",
    "import matplotlib.pyplot as plt\n",
    "import pandas as pd\n",
    "import random"
   ]
  },
  {
   "cell_type": "code",
   "execution_count": 74,
   "id": "363df5fd",
   "metadata": {},
   "outputs": [],
   "source": [
    "class RNN(nn.Module):\n",
    "    def __init__(self, input_size, hidden_size, output_size):\n",
    "        super(RNN, self).__init__()\n",
    "        \n",
    "        self.hidden_size = hidden_size\n",
    "        \n",
    "        self.output_layer = nn.Linear(input_size + hidden_size, output_size)\n",
    "        self.hidden_layer = nn.Linear(input_size + hidden_size, hidden_size)\n",
    "        \n",
    "        self.relu = nn.ReLU()\n",
    "        self.softmax = nn.LogSoftmax(dim=1) \n",
    "        \n",
    "    def forward(self, input_tens, hidden_tens):\n",
    "        combined = torch.cat((input_tens, hidden_tens), 1)\n",
    "        \n",
    "        hidden = self.hidden_layer(combined)\n",
    "        hidden = self.relu(hidden)\n",
    "        \n",
    "        out = self.output_layer(combined)\n",
    "        out = self.softmax(out) \n",
    "        return out, hidden\n",
    "    \n",
    "    def init_hidden(self):\n",
    "        return torch.zeros(1, self.hidden_size)"
   ]
  },
  {
   "cell_type": "code",
   "execution_count": 75,
   "id": "f5b41ad5",
   "metadata": {},
   "outputs": [],
   "source": [
    "#Setup Globals\n",
    "WORD_COUNT = 316\n",
    "WORD_DICT = {}\n",
    "ID_TO_WORD = {}\n",
    "\n",
    "vocab = pd.read_csv(\"data/dictionary.txt\")\n",
    "for i in range(WORD_COUNT):\n",
    "    word = vocab[\"Word\"][i]\n",
    "    word_id = vocab[\"Id\"][i]\n",
    "    WORD_DICT[word] = word_id\n",
    "    ID_TO_WORD[word_id] = word"
   ]
  },
  {
   "cell_type": "code",
   "execution_count": 117,
   "id": "f2a26dcd",
   "metadata": {},
   "outputs": [],
   "source": [
    "def tokenize_input(sentence):\n",
    "    token_list = []\n",
    "    word = \"\"\n",
    "    punctuation = [\".\", \"!\", \"?\"]\n",
    "    for char in sentence:\n",
    "        if char == \" \":\n",
    "            token_list.append(word)\n",
    "            word = \"\"\n",
    "        elif char in punctuation:\n",
    "            token_list.append(word)\n",
    "            word = \"\"\n",
    "            word += char\n",
    "        else:\n",
    "            word += char\n",
    "    token_list.append(word)\n",
    "    return token_list\n",
    "\n",
    "def load_data():\n",
    "    train = pd.read_csv(\"data/train_lang.txt\")\n",
    "    return train\n",
    "\n",
    "\n",
    "def sentence_to_tensor(sentence):\n",
    "    tokens = tokenize_input(sentence)\n",
    "    tensor = torch.zeros(len(tokens), 1, WORD_COUNT)\n",
    "    for i, word in enumerate(tokens):\n",
    "        tensor[i][0][WORD_DICT[word]] = 1\n",
    "    return tensor\n",
    "\n",
    "def category_to_tensor(word):\n",
    "    return torch.tensor([WORD_DICT[word]], dtype=torch.long)\n",
    "    \n",
    "\n",
    "def get_random_row(df):\n",
    "    row_count = df.shape[0]\n",
    "    rand_ind = random.randrange(row_count)\n",
    "    x = df[\"Sentence\"][rand_ind]\n",
    "    y1 = df[\"First\"][rand_ind]\n",
    "    y2 = df[\"Second\"][rand_ind]\n",
    "    return x, y1, y2\n",
    "   \n",
    "def train_sentence(sentence_tensor, y1_tensor, y2_tensor):\n",
    "    hidden = rnn_model.init_hidden()\n",
    "    output = \"\"\n",
    "    for i in range(sentence_tensor.size()[0]):\n",
    "        output, hidden = rnn_model(sentence_tensor[i], hidden)\n",
    "        \n",
    "    loss = criterion(output, y1_tensor)\n",
    "    #optimizer.zero_grad()\n",
    "    #loss.backward(retain_graph=True)\n",
    "    #optimizer.step()\n",
    "    \n",
    "    #not sure if right\n",
    "    output, hidden = rnn_model(output, hidden)\n",
    "    loss = criterion(output, y2_tensor)\n",
    "    optimizer.zero_grad()\n",
    "    loss.backward()\n",
    "    optimizer.step()\n",
    "    \n",
    "    return output, loss.item()\n",
    "\n",
    "def convert_output(output_tensor):\n",
    "    key = torch.argmax(output_tensor).item()\n",
    "    return ID_TO_WORD[key]\n",
    "\n",
    "def predict_next_n_words(starting_prompt, n):\n",
    "    prompt_tensor = sentence_to_tensor(starting_prompt)\n",
    "    hidden_tens = rnn_model.init_hidden()\n",
    "    answer = []\n",
    "    final_sentence = starting_prompt\n",
    "    with torch.no_grad():\n",
    "        for i in range(prompt_tensor.size()[0]):\n",
    "            output, hidden_tens = rnn_model(prompt_tensor[i], hidden_tens)\n",
    "        new_word = convert_output(output)\n",
    "        answer.append(new_word)\n",
    "        for i in range(n-1):\n",
    "            output, hidden_tens = rnn_model(output, hidden_tens)\n",
    "            new_word = convert_output(output)\n",
    "            answer.append(new_word)\n",
    "    for word in answer:\n",
    "        final_sentence = final_sentence + \" \" + word\n",
    "    return final_sentence\n",
    "    \n",
    "    "
   ]
  },
  {
   "cell_type": "code",
   "execution_count": 138,
   "id": "bd235b36",
   "metadata": {},
   "outputs": [],
   "source": [
    "train = load_data()"
   ]
  },
  {
   "cell_type": "code",
   "execution_count": 139,
   "id": "dc55602c",
   "metadata": {},
   "outputs": [],
   "source": [
    "n_hidden = 256\n",
    "\n",
    "rnn_model = RNN(WORD_COUNT, n_hidden, WORD_COUNT)"
   ]
  },
  {
   "cell_type": "code",
   "execution_count": 140,
   "id": "c72efbc8",
   "metadata": {},
   "outputs": [],
   "source": [
    "learning_rate = 0.001\n",
    "criterion = nn.NLLLoss()\n",
    "optimizer = torch.optim.SGD(rnn_model.parameters(), lr=learning_rate)"
   ]
  },
  {
   "cell_type": "code",
   "execution_count": 141,
   "id": "92686246",
   "metadata": {},
   "outputs": [
    {
     "name": "stdout",
     "output_type": "stream",
     "text": [
      " iteration=5000 percent_done=2.5% loss=10.2885 Last Sample Result: You are the object of / Guess was other which is WRONG. Correct answer is affection\n",
      " iteration=10000 percent_done=5.0% loss=12.2192 Last Sample Result: I love you more and more / Guess was you which is CORRECT. Correct answer is day\n",
      " iteration=15000 percent_done=7.5% loss=9.2759 Last Sample Result: I had an amazing time / Guess was me which is WRONG. Correct answer is you\n",
      " iteration=20000 percent_done=10.0% loss=10.3835 Last Sample Result: You turn me / Guess was now which is WRONG. Correct answer is out\n",
      " iteration=25000 percent_done=12.5% loss=8.4187 Last Sample Result: I’ll always / Guess was now which is WRONG. Correct answer is you\n",
      " iteration=30000 percent_done=15.0% loss=12.0617 Last Sample Result: You are / Guess was born which is WRONG. Correct answer is favorite\n",
      " iteration=35000 percent_done=17.5% loss=10.7792 Last Sample Result: I never want to see / Guess was chance which is WRONG. Correct answer is again\n",
      " iteration=40000 percent_done=20.0% loss=0.0000 Last Sample Result: If I was your mirror I’d break myself just so you would throw me in the trash and I wouldn’t have to look / Guess was you which is CORRECT. Correct answer is you\n",
      " iteration=45000 percent_done=22.5% loss=14.1519 Last Sample Result: Remember when we first met? I wish / Guess was off which is WRONG. Correct answer is didn’t\n",
      " iteration=50000 percent_done=25.0% loss=0.0492 Last Sample Result: I used to care about you. Now? I regret every second / Guess was wasted which is WRONG. Correct answer is wasted\n",
      " iteration=55000 percent_done=27.500000000000004% loss=0.0000 Last Sample Result: I don’t know what they see / Guess was you which is CORRECT. Correct answer is you\n",
      " iteration=60000 percent_done=30.0% loss=8.0154 Last Sample Result: I deserve so / Guess was smile which is WRONG. Correct answer is better\n",
      " iteration=65000 percent_done=32.5% loss=0.0000 Last Sample Result: I’d rather be working with anyone else in the whole world / Guess was now which is WRONG. Correct answer is now\n",
      " iteration=70000 percent_done=35.0% loss=0.0000 Last Sample Result: I’m in love / Guess was you which is CORRECT. Correct answer is you\n",
      " iteration=75000 percent_done=37.5% loss=0.0000 Last Sample Result: You’re the last person I wanted to see / Guess was now which is WRONG. Correct answer is now\n",
      " iteration=80000 percent_done=40.0% loss=7.5592 Last Sample Result: Sorry I just puked in my mouth a bit. I accidentally looked at / Guess was me which is WRONG. Correct answer is face\n",
      " iteration=85000 percent_done=42.5% loss=0.0000 Last Sample Result: I’m crazy / Guess was you which is CORRECT. Correct answer is you\n",
      " iteration=90000 percent_done=45.0% loss=0.0004 Last Sample Result: Go ahead leave. Don’t worry about / Guess was back which is WRONG. Correct answer is back\n",
      " iteration=95000 percent_done=47.5% loss=8.4112 Last Sample Result: Go ahead choose them! You deserve / Guess was back which is WRONG. Correct answer is other\n",
      " iteration=100000 percent_done=50.0% loss=0.0000 Last Sample Result: I had an amazing time / Guess was you which is CORRECT. Correct answer is you\n",
      " iteration=105000 percent_done=52.5% loss=0.0000 Last Sample Result: I’ll always / Guess was you which is CORRECT. Correct answer is you\n",
      " iteration=110000 percent_done=55.00000000000001% loss=0.0000 Last Sample Result: I’m in love / Guess was you which is CORRECT. Correct answer is you\n",
      " iteration=115000 percent_done=57.49999999999999% loss=0.0000 Last Sample Result: Don’t apologize - you don’t deserve / Guess was forgiveness which is WRONG. Correct answer is forgiveness\n",
      " iteration=120000 percent_done=60.0% loss=0.0005 Last Sample Result: I love you more and more / Guess was day which is WRONG. Correct answer is day\n",
      " iteration=125000 percent_done=62.5% loss=0.0083 Last Sample Result: You make my heart warm / Guess was happy which is WRONG. Correct answer is happy\n",
      " iteration=130000 percent_done=65.0% loss=0.0000 Last Sample Result: I’m rather partial / Guess was you which is CORRECT. Correct answer is you\n",
      " iteration=135000 percent_done=67.5% loss=0.0010 Last Sample Result: You’re the worst mistake I’ve / Guess was made which is WRONG. Correct answer is made\n",
      " iteration=140000 percent_done=70.0% loss=0.0003 Last Sample Result: You’re my dream / Guess was true which is WRONG. Correct answer is true\n",
      " iteration=145000 percent_done=72.5% loss=0.0002 Last Sample Result: You melt / Guess was heart which is WRONG. Correct answer is heart\n",
      " iteration=150000 percent_done=75.0% loss=0.0002 Last Sample Result: I am so happy someone like / Guess was exists which is WRONG. Correct answer is exists\n",
      " iteration=155000 percent_done=77.5% loss=0.0000 Last Sample Result: Why do I waste my time / Guess was you which is CORRECT. Correct answer is you\n",
      " iteration=160000 percent_done=80.0% loss=0.0015 Last Sample Result: Go ahead leave. Don’t worry about / Guess was back which is WRONG. Correct answer is back\n",
      " iteration=165000 percent_done=82.5% loss=0.0177 Last Sample Result: I / Guess was care which is WRONG. Correct answer is care\n",
      " iteration=170000 percent_done=85.0% loss=0.0000 Last Sample Result: I had an amazing time / Guess was you which is CORRECT. Correct answer is you\n",
      " iteration=175000 percent_done=87.5% loss=0.0000 Last Sample Result: I don’t know what they see / Guess was you which is CORRECT. Correct answer is you\n",
      " iteration=180000 percent_done=90.0% loss=0.0008 Last Sample Result: I never want to see / Guess was again which is WRONG. Correct answer is again\n",
      " iteration=185000 percent_done=92.5% loss=0.0045 Last Sample Result: I deserve so / Guess was better which is WRONG. Correct answer is better\n",
      " iteration=190000 percent_done=95.0% loss=0.0002 Last Sample Result: You’re an embarrassment to all / Guess was us which is WRONG. Correct answer is us\n",
      " iteration=195000 percent_done=97.5% loss=0.0069 Last Sample Result: You are the apple of / Guess was eyes which is WRONG. Correct answer is eyes\n",
      " iteration=200000 percent_done=100.0% loss=12.7278 Last Sample Result: I / Guess was you which is CORRECT. Correct answer is care\n"
     ]
    }
   ],
   "source": [
    "loss_sum = 0\n",
    "all_losses = []\n",
    "plot_step, print_step = 200, 5000\n",
    "#plot_step, print_step = 1, 1\n",
    "n_iter = 200000\n",
    "for i in range(n_iter):\n",
    "\n",
    "    x, y1, y2 = get_random_row(train)\n",
    "    x_tensor = sentence_to_tensor(x)\n",
    "    y1_tensor = category_to_tensor(y1)\n",
    "    y2_tensor = category_to_tensor(y2)\n",
    "    output, loss = train_sentence(x_tensor, y1_tensor, y2_tensor)\n",
    "    loss_sum += loss\n",
    "    \n",
    "    if(i+1) % plot_step == 0:\n",
    "        all_losses.append(loss_sum/plot_step)\n",
    "        loss_sum = 0\n",
    "        \n",
    "    if (i+1) % print_step == 0:\n",
    "        guess = convert_output(output)\n",
    "        answer = \"CORRECT\" if guess == y else \"WRONG\"\n",
    "        print(f\" iteration={i+1} percent_done={(i+1)/n_iter*100}% loss={loss:.4f} Last Sample Result: {x} / Guess was {guess}\"\n",
    "        f\" which is {answer}. Correct answer is {y2}\")"
   ]
  },
  {
   "cell_type": "code",
   "execution_count": 142,
   "id": "2e15d2b7",
   "metadata": {},
   "outputs": [
    {
     "data": {
      "image/png": "[encoded data removed]",
      "text/plain": [
       "<Figure size 432x288 with 1 Axes>"
      ]
     },
     "metadata": {
      "needs_background": "light"
     },
     "output_type": "display_data"
    }
   ],
   "source": [
    "plt.plot(all_losses)\n",
    "plt.show()"
   ]
  },
  {
   "cell_type": "code",
   "execution_count": 155,
   "id": "f074f2da",
   "metadata": {},
   "outputs": [
    {
     "name": "stdout",
     "output_type": "stream",
     "text": [
      "How can you go on\n"
     ]
    }
   ],
   "source": [
    "print(predict_next_n_words(\"How can you\", 2))"
   ]
  },
  {
   "cell_type": "code",
   "execution_count": null,
   "id": "e1ca7626",
   "metadata": {},
   "outputs": [],
   "source": []
  },
  {
   "cell_type": "code",
   "execution_count": null,
   "id": "5583bdfb",
   "metadata": {},
   "outputs": [],
   "source": []
  },
  {
   "cell_type": "code",
   "execution_count": null,
   "id": "c0c74b7e",
   "metadata": {},
   "outputs": [],
   "source": []
  },
  {
   "cell_type": "code",
   "execution_count": null,
   "id": "290d4108",
   "metadata": {},
   "outputs": [],
   "source": []
  }
 ],
 "metadata": {
  "kernelspec": {
   "display_name": "Python 3 (ipykernel)",
   "language": "python",
   "name": "python3"
  },
  "language_info": {
   "codemirror_mode": {
    "name": "ipython",
    "version": 3
   },
   "file_extension": ".py",
   "mimetype": "text/x-python",
   "name": "python",
   "nbconvert_exporter": "python",
   "pygments_lexer": "ipython3",
   "version": "3.8.10"
  }
 },
 "nbformat": 4,
 "nbformat_minor": 5
}
