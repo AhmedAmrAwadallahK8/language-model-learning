{
 "cells": [
  {
   "cell_type": "code",
   "execution_count": 1,
   "id": "38ad791c",
   "metadata": {},
   "outputs": [],
   "source": [
    "import torch\n",
    "import torch.nn as nn\n",
    "import torchvision\n",
    "import numpy as np\n",
    "import matplotlib.pyplot as plt\n",
    "import pandas as pd\n",
    "import random"
   ]
  },
  {
   "cell_type": "code",
   "execution_count": 2,
   "id": "51931bc3",
   "metadata": {},
   "outputs": [],
   "source": [
    "class RNN(nn.Module):\n",
    "    def __init__(self, input_size, hidden_size, output_size):\n",
    "        super(RNN, self).__init__()\n",
    "        \n",
    "        self.hidden_size = hidden_size\n",
    "        \n",
    "        self.output_layer = nn.Linear(input_size + hidden_size, output_size)\n",
    "        self.hidden_layer = nn.Linear(input_size + hidden_size, hidden_size)\n",
    "        \n",
    "        self.relu = nn.ReLU()\n",
    "        self.softmax = nn.LogSoftmax(dim=1) \n",
    "        \n",
    "    def forward(self, input_tens, hidden_tens):\n",
    "        combined = torch.cat((input_tens, hidden_tens), 1)\n",
    "        \n",
    "        hidden = self.hidden_layer(combined)\n",
    "        hidden = self.relu(hidden)\n",
    "        \n",
    "        out = self.output_layer(combined)\n",
    "        out = self.softmax(out) \n",
    "        return out, hidden\n",
    "    \n",
    "    def init_hidden(self):\n",
    "        return torch.zeros(1, self.hidden_size)"
   ]
  },
  {
   "cell_type": "code",
   "execution_count": 3,
   "id": "7416262c",
   "metadata": {},
   "outputs": [],
   "source": [
    "#Setup Globals\n",
    "WORD_COUNT = 316\n",
    "CATEGORY_COUNT = 2 #Positive or Negative\n",
    "WORD_DICT = {}\n",
    "CATEGORY_DICT = {0: \"Negative\", 1: \"Positive\"}\n",
    "\n",
    "vocab = pd.read_csv(\"data/dictionary.txt\")\n",
    "for i in range(WORD_COUNT):\n",
    "    word = vocab[\"Word\"][i]\n",
    "    word_id = vocab[\"Id\"][i]\n",
    "    WORD_DICT[word] = word_id"
   ]
  },
  {
   "cell_type": "code",
   "execution_count": 4,
   "id": "6534b6ea",
   "metadata": {},
   "outputs": [],
   "source": [
    "def tokenize_input(sentence):\n",
    "    token_list = []\n",
    "    word = \"\"\n",
    "    punctuation = [\".\", \"!\", \"?\"]\n",
    "    for char in sentence:\n",
    "        if char == \" \":\n",
    "            token_list.append(word)\n",
    "            word = \"\"\n",
    "        elif char in punctuation:\n",
    "            token_list.append(word)\n",
    "            word = \"\"\n",
    "            word += char\n",
    "        else:\n",
    "            word += char\n",
    "    token_list.append(word)\n",
    "    return token_list\n",
    "\n",
    "def load_data():\n",
    "    train = pd.read_csv(\"data/train.txt\")\n",
    "    test = pd.read_csv(\"data/test.txt\")\n",
    "    return train, test\n",
    "\n",
    "\n",
    "def sentence_to_tensor(sentence):\n",
    "    tokens = tokenize_input(sentence)\n",
    "    tensor = torch.zeros(len(tokens), 1, WORD_COUNT)\n",
    "    for i, word in enumerate(tokens):\n",
    "        tensor[i][0][WORD_DICT[word]] = 1\n",
    "    return tensor\n",
    "\n",
    "def category_to_tensor(sentiment):\n",
    "    if sentiment == \"Positive\":\n",
    "        return torch.tensor([1], dtype=torch.long)\n",
    "    else:\n",
    "        return torch.tensor([0], dtype=torch.long)\n",
    "    \n",
    "\n",
    "def get_random_row(df):\n",
    "    row_count = df.shape[0]\n",
    "    rand_ind = random.randrange(row_count)\n",
    "    x = df[\"Sentence\"][rand_ind]\n",
    "    y = df[\"Sentiment\"][rand_ind]\n",
    "    return x, y\n",
    "   \n",
    "def train_sentence(sentence_tensor, category_tensor):\n",
    "    hidden = rnn_model.init_hidden()\n",
    "    \n",
    "    for i in range(sentence_tensor.size()[0]):\n",
    "        output, hidden = rnn_model(sentence_tensor[i], hidden)\n",
    "        \n",
    "    loss = criterion(output, category_tensor)\n",
    "    \n",
    "    optimizer.zero_grad()\n",
    "    loss.backward()\n",
    "    optimizer.step()\n",
    "    \n",
    "    return output, loss.item()\n",
    "\n",
    "def convert_output(output_tensor):\n",
    "    key = torch.argmax(output).item()\n",
    "    return CATEGORY_DICT[key]\n",
    "    "
   ]
  },
  {
   "cell_type": "code",
   "execution_count": 5,
   "id": "185b7703",
   "metadata": {},
   "outputs": [],
   "source": [
    "train, test = load_data()"
   ]
  },
  {
   "cell_type": "code",
   "execution_count": 6,
   "id": "8b4cc797",
   "metadata": {},
   "outputs": [],
   "source": [
    "n_hidden = 256\n",
    "\n",
    "rnn_model = RNN(WORD_COUNT, n_hidden, CATEGORY_COUNT)"
   ]
  },
  {
   "cell_type": "code",
   "execution_count": 7,
   "id": "fb45fcc1",
   "metadata": {},
   "outputs": [],
   "source": [
    "learning_rate = 0.005\n",
    "criterion = nn.NLLLoss()\n",
    "optimizer = torch.optim.SGD(rnn_model.parameters(), lr=learning_rate)\n"
   ]
  },
  {
   "cell_type": "code",
   "execution_count": 8,
   "id": "d4df6d85",
   "metadata": {},
   "outputs": [
    {
     "name": "stdout",
     "output_type": "stream",
     "text": [
      " iteration=5000 percent_done=33.33333333333333% loss=0.0731 Last Sample Result: Ha! You think I care about you? What do you think I am desperate? / Negative CORRECT\n",
      " iteration=10000 percent_done=66.66666666666666% loss=0.0486 Last Sample Result: You’re a monster. / Negative CORRECT\n",
      " iteration=15000 percent_done=100.0% loss=0.0000 Last Sample Result: You’re the worst mistake I’ve ever made. / Negative CORRECT\n"
     ]
    }
   ],
   "source": [
    "epoch_count = 5\n",
    "loss_sum = 0\n",
    "all_losses = []\n",
    "plot_step, print_step = 200, 5000\n",
    "n_iter = 15000\n",
    "for i in range(n_iter):\n",
    "    x, y = get_random_row(train)\n",
    "    x_tensor = sentence_to_tensor(x)\n",
    "    y_tensor = category_to_tensor(y)\n",
    "    output, loss = train_sentence(x_tensor, y_tensor)\n",
    "    loss_sum += loss\n",
    "    \n",
    "    if(i+1) % plot_step == 0:\n",
    "        all_losses.append(loss_sum/plot_step)\n",
    "        loss_sum = 0\n",
    "        \n",
    "    if (i+1) % print_step == 0:\n",
    "        guess = convert_output(output)\n",
    "        correct = \"CORRECT\" if guess == y else f\"WRONG, Actual Category ({y})\"\n",
    "        print(f\" iteration={i+1} percent_done={(i+1)/n_iter*100}% loss={loss:.4f} Last Sample Result: {x} / {guess} {correct}\")\n",
    "        "
   ]
  },
  {
   "cell_type": "code",
   "execution_count": 9,
   "id": "02bbd346",
   "metadata": {},
   "outputs": [
    {
     "data": {
      "image/png": "[encoded data removed]",
      "text/plain": [
       "<Figure size 432x288 with 1 Axes>"
      ]
     },
     "metadata": {
      "needs_background": "light"
     },
     "output_type": "display_data"
    }
   ],
   "source": [
    "plt.plot(all_losses)\n",
    "plt.show()"
   ]
  },
  {
   "cell_type": "code",
   "execution_count": 10,
   "id": "a471efc8",
   "metadata": {},
   "outputs": [],
   "source": [
    "y_tars = []\n",
    "y_preds = []\n",
    "sentences = []\n",
    "for i in range(test.shape[0]):\n",
    "    x, y = test[\"Sentence\"][i], test[\"Sentiment\"][i]\n",
    "    y_tars.append(y)\n",
    "    sentences.append(x)\n",
    "    x_tensor = sentence_to_tensor(x)\n",
    "    hidden_tens = rnn_model.init_hidden()\n",
    "    with torch.no_grad():\n",
    "        for j in range(x_tensor.size()[0]):\n",
    "            output, hidden_tens = rnn_model(x_tensor[j], hidden_tens)\n",
    "        y_pred = convert_output(output)\n",
    "        y_preds.append(y_pred)\n",
    "        \n"
   ]
  },
  {
   "cell_type": "code",
   "execution_count": 11,
   "id": "ed501052",
   "metadata": {},
   "outputs": [],
   "source": [
    "results = pd.DataFrame({\"Sentence\": sentences, \"Prediction\":y_preds, \"Target\":y_tars})"
   ]
  },
  {
   "cell_type": "code",
   "execution_count": 12,
   "id": "0e03f755",
   "metadata": {},
   "outputs": [
    {
     "data": {
      "text/html": [
       "<div>\n",
       "<style scoped>\n",
       "    .dataframe tbody tr th:only-of-type {\n",
       "        vertical-align: middle;\n",
       "    }\n",
       "\n",
       "    .dataframe tbody tr th {\n",
       "        vertical-align: top;\n",
       "    }\n",
       "\n",
       "    .dataframe thead th {\n",
       "        text-align: right;\n",
       "    }\n",
       "</style>\n",
       "<table border=\"1\" class=\"dataframe\">\n",
       "  <thead>\n",
       "    <tr style=\"text-align: right;\">\n",
       "      <th></th>\n",
       "      <th>Sentence</th>\n",
       "      <th>Prediction</th>\n",
       "      <th>Target</th>\n",
       "    </tr>\n",
       "  </thead>\n",
       "  <tbody>\n",
       "    <tr>\n",
       "      <th>0</th>\n",
       "      <td>You are my most favorite part of reality.</td>\n",
       "      <td>Positive</td>\n",
       "      <td>Positive</td>\n",
       "    </tr>\n",
       "    <tr>\n",
       "      <th>1</th>\n",
       "      <td>My dream is to be with you forever.</td>\n",
       "      <td>Positive</td>\n",
       "      <td>Positive</td>\n",
       "    </tr>\n",
       "    <tr>\n",
       "      <th>2</th>\n",
       "      <td>You always make me want to cuddle with you.</td>\n",
       "      <td>Positive</td>\n",
       "      <td>Positive</td>\n",
       "    </tr>\n",
       "    <tr>\n",
       "      <th>3</th>\n",
       "      <td>You being happy makes me happy.</td>\n",
       "      <td>Positive</td>\n",
       "      <td>Positive</td>\n",
       "    </tr>\n",
       "    <tr>\n",
       "      <th>4</th>\n",
       "      <td>You are the most amazing person I have ever kn...</td>\n",
       "      <td>Positive</td>\n",
       "      <td>Positive</td>\n",
       "    </tr>\n",
       "    <tr>\n",
       "      <th>5</th>\n",
       "      <td>Some people are just born to fail. Sorry you’r...</td>\n",
       "      <td>Negative</td>\n",
       "      <td>Negative</td>\n",
       "    </tr>\n",
       "    <tr>\n",
       "      <th>6</th>\n",
       "      <td>You’re so worthless you hardly even exist to me.</td>\n",
       "      <td>Negative</td>\n",
       "      <td>Negative</td>\n",
       "    </tr>\n",
       "    <tr>\n",
       "      <th>7</th>\n",
       "      <td>I wish I could go back to the day I met you an...</td>\n",
       "      <td>Negative</td>\n",
       "      <td>Negative</td>\n",
       "    </tr>\n",
       "    <tr>\n",
       "      <th>8</th>\n",
       "      <td>If you give me that look one more time I’m ski...</td>\n",
       "      <td>Negative</td>\n",
       "      <td>Negative</td>\n",
       "    </tr>\n",
       "    <tr>\n",
       "      <th>9</th>\n",
       "      <td>Honestly I’m embarrassed to even know you...</td>\n",
       "      <td>Positive</td>\n",
       "      <td>Negative</td>\n",
       "    </tr>\n",
       "  </tbody>\n",
       "</table>\n",
       "</div>"
      ],
      "text/plain": [
       "                                            Sentence Prediction    Target\n",
       "0          You are my most favorite part of reality.   Positive  Positive\n",
       "1                My dream is to be with you forever.   Positive  Positive\n",
       "2        You always make me want to cuddle with you.   Positive  Positive\n",
       "3                    You being happy makes me happy.   Positive  Positive\n",
       "4  You are the most amazing person I have ever kn...   Positive  Positive\n",
       "5  Some people are just born to fail. Sorry you’r...   Negative  Negative\n",
       "6   You’re so worthless you hardly even exist to me.   Negative  Negative\n",
       "7  I wish I could go back to the day I met you an...   Negative  Negative\n",
       "8  If you give me that look one more time I’m ski...   Negative  Negative\n",
       "9       Honestly I’m embarrassed to even know you...   Positive  Negative"
      ]
     },
     "execution_count": 12,
     "metadata": {},
     "output_type": "execute_result"
    }
   ],
   "source": [
    "results"
   ]
  },
  {
   "cell_type": "code",
   "execution_count": 13,
   "id": "c80996f7",
   "metadata": {},
   "outputs": [
    {
     "data": {
      "text/plain": [
       "'You are the most amazing person I have ever known.'"
      ]
     },
     "execution_count": 13,
     "metadata": {},
     "output_type": "execute_result"
    }
   ],
   "source": [
    "results[\"Sentence\"][4]"
   ]
  },
  {
   "cell_type": "code",
   "execution_count": 14,
   "id": "94bc514c",
   "metadata": {},
   "outputs": [
    {
     "data": {
      "text/plain": [
       "'Honestly I’m embarrassed to even know you...'"
      ]
     },
     "execution_count": 14,
     "metadata": {},
     "output_type": "execute_result"
    }
   ],
   "source": [
    "results[\"Sentence\"][9]"
   ]
  },
  {
   "cell_type": "code",
   "execution_count": 15,
   "id": "01cf38f8",
   "metadata": {},
   "outputs": [],
   "source": [
    "from sklearn.metrics import precision_recall_fscore_support\n",
    "scores = precision_recall_fscore_support(y_tars, y_preds)"
   ]
  },
  {
   "cell_type": "code",
   "execution_count": 16,
   "id": "c98a14c7",
   "metadata": {},
   "outputs": [],
   "source": [
    "precision = scores[0][0]\n",
    "recall = scores[1][0]\n",
    "f1 = scores[2][0]"
   ]
  },
  {
   "cell_type": "code",
   "execution_count": 17,
   "id": "c7457065",
   "metadata": {},
   "outputs": [
    {
     "name": "stdout",
     "output_type": "stream",
     "text": [
      "Positive Class Metric Report on Test Set\n",
      "Precision=1.0000, Recall=0.8000, F1=0.8889\n"
     ]
    }
   ],
   "source": [
    "print(\"Positive Class Metric Report on Test Set\")\n",
    "print(f\"Precision={precision:.4f}, Recall={recall:.4f}, F1={f1:.4f}\")"
   ]
  },
  {
   "cell_type": "code",
   "execution_count": 18,
   "id": "6aa2672b",
   "metadata": {},
   "outputs": [],
   "source": [
    "#The scores are high but to be fair our dataset is incredibly small and is not representative of all possible positive\n",
    "#and negative phrases. Under this limited scope it does well but this is purely to practice and learn not to create a \n",
    "#useful model"
   ]
  }
 ],
 "metadata": {
  "kernelspec": {
   "display_name": "Python 3 (ipykernel)",
   "language": "python",
   "name": "python3"
  },
  "language_info": {
   "codemirror_mode": {
    "name": "ipython",
    "version": 3
   },
   "file_extension": ".py",
   "mimetype": "text/x-python",
   "name": "python",
   "nbconvert_exporter": "python",
   "pygments_lexer": "ipython3",
   "version": "3.8.10"
  }
 },
 "nbformat": 4,
 "nbformat_minor": 5
}
