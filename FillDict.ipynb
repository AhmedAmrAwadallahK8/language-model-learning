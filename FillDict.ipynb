{
 "cells": [
  {
   "cell_type": "code",
   "execution_count": 114,
   "id": "15f6820a",
   "metadata": {},
   "outputs": [],
   "source": [
    "#316 Words Total\n",
    "import pandas as pd\n",
    "import numpy as np"
   ]
  },
  {
   "cell_type": "code",
   "execution_count": 115,
   "id": "a57be05e",
   "metadata": {},
   "outputs": [],
   "source": [
    "train = pd.read_csv(\"data/train.txt\")\n",
    "test = pd.read_csv(\"data/test.txt\")"
   ]
  },
  {
   "cell_type": "code",
   "execution_count": 116,
   "id": "e4d2d0d1",
   "metadata": {},
   "outputs": [],
   "source": [
    "full_df = pd.concat([train, test])\n",
    "full_df = df.reset_index(drop=True)"
   ]
  },
  {
   "cell_type": "code",
   "execution_count": 120,
   "id": "01ae2916",
   "metadata": {},
   "outputs": [],
   "source": [
    "def tokenize_input(sentence):\n",
    "    token_list = []\n",
    "    word = \"\"\n",
    "    punctuation = [\".\", \"!\", \"?\"]\n",
    "    for char in sentence:\n",
    "        if char == \" \":\n",
    "            token_list.append(word)\n",
    "            word = \"\"\n",
    "        elif char in punctuation:\n",
    "            token_list.append(word)\n",
    "            word = \"\"\n",
    "            word += char\n",
    "        else:\n",
    "            word += char\n",
    "    token_list.append(word)\n",
    "    return token_list\n",
    "\n",
    "def create_dictionary(df):\n",
    "    row_count = df.shape[0]\n",
    "    unique_words = {}\n",
    "    for i in range(0, row_count):\n",
    "        sentence = df[\"Sentence\"][i]\n",
    "        token_list = tokenize_input(sentence)\n",
    "        for token in token_list:\n",
    "            #This is not ideal but why make a dictionary if I cant take advantage of instant access\n",
    "            #Mostly hoping the cost of entering try except block does not exceed the cost of iterating across a list\n",
    "            try:\n",
    "                unique_words[token]\n",
    "            except Exception as err:\n",
    "                unique_words[token] = len(unique_words)\n",
    "                \n",
    "    return unique_words\n",
    "        "
   ]
  },
  {
   "cell_type": "code",
   "execution_count": 121,
   "id": "64e31fe9",
   "metadata": {},
   "outputs": [],
   "source": [
    "final_dict = create_dictionary(full_df)"
   ]
  },
  {
   "cell_type": "code",
   "execution_count": 129,
   "id": "49dff777",
   "metadata": {},
   "outputs": [],
   "source": [
    "vocab_list = []\n",
    "for word in final_dict:\n",
    "    vocab_list.append(word)"
   ]
  },
  {
   "cell_type": "code",
   "execution_count": 130,
   "id": "baf39643",
   "metadata": {},
   "outputs": [],
   "source": [
    "import random\n",
    "random.shuffle(vocab_list)"
   ]
  },
  {
   "cell_type": "code",
   "execution_count": 135,
   "id": "4accab76",
   "metadata": {},
   "outputs": [],
   "source": [
    "\n",
    "with open(\"data/dictionary.txt\", \"w\") as f:\n",
    "    token_id = 0\n",
    "    f.write(\"Word,Id\\n\")\n",
    "    for word in vocab_list:\n",
    "        f.write(word + \",\" + str(token_id) + \"\\n\")\n",
    "        token_id+=1"
   ]
  }
 ],
 "metadata": {
  "kernelspec": {
   "display_name": "Python 3 (ipykernel)",
   "language": "python",
   "name": "python3"
  },
  "language_info": {
   "codemirror_mode": {
    "name": "ipython",
    "version": 3
   },
   "file_extension": ".py",
   "mimetype": "text/x-python",
   "name": "python",
   "nbconvert_exporter": "python",
   "pygments_lexer": "ipython3",
   "version": "3.8.10"
  }
 },
 "nbformat": 4,
 "nbformat_minor": 5
}
